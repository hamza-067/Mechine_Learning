{
  "cells": [
    {
      "cell_type": "markdown",
      "metadata": {
        "id": "view-in-github",
        "colab_type": "text"
      },
      "source": [
        "<a href=\"https://colab.research.google.com/github/MHamza666/M-Hamza/blob/main/logistic_regression_in_ML_.ipynb\" target=\"_parent\"><img src=\"https://colab.research.google.com/assets/colab-badge.svg\" alt=\"Open In Colab\"/></a>"
      ]
    },
    {
      "cell_type": "code",
      "source": [
        "from sklearn import datasets\n",
        "iris = datasets.load_iris()\n",
        "print(list(iris.keys()))"
      ],
      "metadata": {
        "colab": {
          "base_uri": "https://localhost:8080/"
        },
        "id": "3n6EDwdc89ef",
        "outputId": "435e4c54-71cf-4627-e839-42044b1d251a"
      },
      "execution_count": 1,
      "outputs": [
        {
          "output_type": "stream",
          "name": "stdout",
          "text": [
            "['data', 'target', 'frame', 'target_names', 'DESCR', 'feature_names', 'filename', 'data_module']\n"
          ]
        }
      ]
    },
    {
      "cell_type": "code",
      "source": [
        "from sklearn import datasets\n",
        "iris = datasets.load_iris()\n",
        "#print(iris['DESCR'])\n",
        "#print(iris['target'])\n",
        "print(iris['target'])"
      ],
      "metadata": {
        "colab": {
          "base_uri": "https://localhost:8080/"
        },
        "id": "1fOALON28_CH",
        "outputId": "086ef582-a3d9-409b-9c28-a2ecbb328705"
      },
      "execution_count": 6,
      "outputs": [
        {
          "output_type": "stream",
          "name": "stdout",
          "text": [
            "[0 0 0 0 0 0 0 0 0 0 0 0 0 0 0 0 0 0 0 0 0 0 0 0 0 0 0 0 0 0 0 0 0 0 0 0 0\n",
            " 0 0 0 0 0 0 0 0 0 0 0 0 0 1 1 1 1 1 1 1 1 1 1 1 1 1 1 1 1 1 1 1 1 1 1 1 1\n",
            " 1 1 1 1 1 1 1 1 1 1 1 1 1 1 1 1 1 1 1 1 1 1 1 1 1 1 2 2 2 2 2 2 2 2 2 2 2\n",
            " 2 2 2 2 2 2 2 2 2 2 2 2 2 2 2 2 2 2 2 2 2 2 2 2 2 2 2 2 2 2 2 2 2 2 2 2 2\n",
            " 2 2]\n"
          ]
        }
      ]
    },
    {
      "cell_type": "code",
      "source": [
        "from sklearn import datasets\n",
        "iris = datasets.load_iris()\n",
        "print(iris['filename'])\n",
        "print(iris['data'].shape)"
      ],
      "metadata": {
        "colab": {
          "base_uri": "https://localhost:8080/"
        },
        "id": "qkk1ChQr-0gg",
        "outputId": "faef46bb-8e97-4d5a-a002-36f2e4e88d30"
      },
      "execution_count": 10,
      "outputs": [
        {
          "output_type": "stream",
          "name": "stdout",
          "text": [
            "iris.csv\n",
            "(150, 4)\n"
          ]
        }
      ]
    },
    {
      "cell_type": "code",
      "source": [
        "from sklearn import datasets\n",
        "iris = datasets.load_iris()\n",
        "x= (iris[\"data\"][:,3:])\n",
        "y=(iris[\"target\"]==2)\n",
        "print(x)\n",
        "print(y)"
      ],
      "metadata": {
        "colab": {
          "base_uri": "https://localhost:8080/"
        },
        "id": "UG07ML6l_NNE",
        "outputId": "6b04e90a-5193-4730-a9e3-3d18e6f66785"
      },
      "execution_count": 12,
      "outputs": [
        {
          "output_type": "stream",
          "name": "stdout",
          "text": [
            "[[0.2]\n",
            " [0.2]\n",
            " [0.2]\n",
            " [0.2]\n",
            " [0.2]\n",
            " [0.4]\n",
            " [0.3]\n",
            " [0.2]\n",
            " [0.2]\n",
            " [0.1]\n",
            " [0.2]\n",
            " [0.2]\n",
            " [0.1]\n",
            " [0.1]\n",
            " [0.2]\n",
            " [0.4]\n",
            " [0.4]\n",
            " [0.3]\n",
            " [0.3]\n",
            " [0.3]\n",
            " [0.2]\n",
            " [0.4]\n",
            " [0.2]\n",
            " [0.5]\n",
            " [0.2]\n",
            " [0.2]\n",
            " [0.4]\n",
            " [0.2]\n",
            " [0.2]\n",
            " [0.2]\n",
            " [0.2]\n",
            " [0.4]\n",
            " [0.1]\n",
            " [0.2]\n",
            " [0.2]\n",
            " [0.2]\n",
            " [0.2]\n",
            " [0.1]\n",
            " [0.2]\n",
            " [0.2]\n",
            " [0.3]\n",
            " [0.3]\n",
            " [0.2]\n",
            " [0.6]\n",
            " [0.4]\n",
            " [0.3]\n",
            " [0.2]\n",
            " [0.2]\n",
            " [0.2]\n",
            " [0.2]\n",
            " [1.4]\n",
            " [1.5]\n",
            " [1.5]\n",
            " [1.3]\n",
            " [1.5]\n",
            " [1.3]\n",
            " [1.6]\n",
            " [1. ]\n",
            " [1.3]\n",
            " [1.4]\n",
            " [1. ]\n",
            " [1.5]\n",
            " [1. ]\n",
            " [1.4]\n",
            " [1.3]\n",
            " [1.4]\n",
            " [1.5]\n",
            " [1. ]\n",
            " [1.5]\n",
            " [1.1]\n",
            " [1.8]\n",
            " [1.3]\n",
            " [1.5]\n",
            " [1.2]\n",
            " [1.3]\n",
            " [1.4]\n",
            " [1.4]\n",
            " [1.7]\n",
            " [1.5]\n",
            " [1. ]\n",
            " [1.1]\n",
            " [1. ]\n",
            " [1.2]\n",
            " [1.6]\n",
            " [1.5]\n",
            " [1.6]\n",
            " [1.5]\n",
            " [1.3]\n",
            " [1.3]\n",
            " [1.3]\n",
            " [1.2]\n",
            " [1.4]\n",
            " [1.2]\n",
            " [1. ]\n",
            " [1.3]\n",
            " [1.2]\n",
            " [1.3]\n",
            " [1.3]\n",
            " [1.1]\n",
            " [1.3]\n",
            " [2.5]\n",
            " [1.9]\n",
            " [2.1]\n",
            " [1.8]\n",
            " [2.2]\n",
            " [2.1]\n",
            " [1.7]\n",
            " [1.8]\n",
            " [1.8]\n",
            " [2.5]\n",
            " [2. ]\n",
            " [1.9]\n",
            " [2.1]\n",
            " [2. ]\n",
            " [2.4]\n",
            " [2.3]\n",
            " [1.8]\n",
            " [2.2]\n",
            " [2.3]\n",
            " [1.5]\n",
            " [2.3]\n",
            " [2. ]\n",
            " [2. ]\n",
            " [1.8]\n",
            " [2.1]\n",
            " [1.8]\n",
            " [1.8]\n",
            " [1.8]\n",
            " [2.1]\n",
            " [1.6]\n",
            " [1.9]\n",
            " [2. ]\n",
            " [2.2]\n",
            " [1.5]\n",
            " [1.4]\n",
            " [2.3]\n",
            " [2.4]\n",
            " [1.8]\n",
            " [1.8]\n",
            " [2.1]\n",
            " [2.4]\n",
            " [2.3]\n",
            " [1.9]\n",
            " [2.3]\n",
            " [2.5]\n",
            " [2.3]\n",
            " [1.9]\n",
            " [2. ]\n",
            " [2.3]\n",
            " [1.8]]\n",
            "[False False False False False False False False False False False False\n",
            " False False False False False False False False False False False False\n",
            " False False False False False False False False False False False False\n",
            " False False False False False False False False False False False False\n",
            " False False False False False False False False False False False False\n",
            " False False False False False False False False False False False False\n",
            " False False False False False False False False False False False False\n",
            " False False False False False False False False False False False False\n",
            " False False False False  True  True  True  True  True  True  True  True\n",
            "  True  True  True  True  True  True  True  True  True  True  True  True\n",
            "  True  True  True  True  True  True  True  True  True  True  True  True\n",
            "  True  True  True  True  True  True  True  True  True  True  True  True\n",
            "  True  True  True  True  True  True]\n"
          ]
        }
      ]
    },
    {
      "cell_type": "code",
      "source": [
        "from sklearn import datasets\n",
        "import numpy as np\n",
        "iris = datasets.load_iris()\n",
        "y=(iris[\"target\"]==2).astype(np.int)\n",
        "print(y)"
      ],
      "metadata": {
        "colab": {
          "base_uri": "https://localhost:8080/"
        },
        "id": "yCDEZV7dAzfa",
        "outputId": "720cf752-b4b5-4b28-a810-5c696e285bd0"
      },
      "execution_count": 14,
      "outputs": [
        {
          "output_type": "stream",
          "name": "stdout",
          "text": [
            "[0 0 0 0 0 0 0 0 0 0 0 0 0 0 0 0 0 0 0 0 0 0 0 0 0 0 0 0 0 0 0 0 0 0 0 0 0\n",
            " 0 0 0 0 0 0 0 0 0 0 0 0 0 0 0 0 0 0 0 0 0 0 0 0 0 0 0 0 0 0 0 0 0 0 0 0 0\n",
            " 0 0 0 0 0 0 0 0 0 0 0 0 0 0 0 0 0 0 0 0 0 0 0 0 0 0 1 1 1 1 1 1 1 1 1 1 1\n",
            " 1 1 1 1 1 1 1 1 1 1 1 1 1 1 1 1 1 1 1 1 1 1 1 1 1 1 1 1 1 1 1 1 1 1 1 1 1\n",
            " 1 1]\n"
          ]
        },
        {
          "output_type": "stream",
          "name": "stderr",
          "text": [
            "<ipython-input-14-cd8d48b79809>:4: DeprecationWarning: `np.int` is a deprecated alias for the builtin `int`. To silence this warning, use `int` by itself. Doing this will not modify any behavior and is safe. When replacing `np.int`, you may wish to use e.g. `np.int64` or `np.int32` to specify the precision. If you wish to review your current use, check the release note link for additional information.\n",
            "Deprecated in NumPy 1.20; for more details and guidance: https://numpy.org/devdocs/release/1.20.0-notes.html#deprecations\n",
            "  y=(iris[\"target\"]==2).astype(np.int)\n"
          ]
        }
      ]
    },
    {
      "cell_type": "code",
      "source": [
        "from sklearn import datasets\n",
        "from sklearn.linear_model import LogisticRegression\n",
        "import numpy as np\n",
        "iris = datasets.load_iris()\n",
        "x = (iris['data'][:,3:])\n",
        "y=(iris[\"target\"]==2).astype(np.int)\n",
        "clf = LogisticRegression()\n",
        "clf.fit(x,y)\n",
        "ex = clf.predict(([[2.6]]))\n",
        "print(ex)"
      ],
      "metadata": {
        "colab": {
          "base_uri": "https://localhost:8080/"
        },
        "id": "9Ma-RAhcBsDI",
        "outputId": "23c375fc-d585-46b3-c356-cf18e390947e"
      },
      "execution_count": 18,
      "outputs": [
        {
          "output_type": "stream",
          "name": "stdout",
          "text": [
            "[1]\n"
          ]
        },
        {
          "output_type": "stream",
          "name": "stderr",
          "text": [
            "<ipython-input-18-2c760bb402cc>:6: DeprecationWarning: `np.int` is a deprecated alias for the builtin `int`. To silence this warning, use `int` by itself. Doing this will not modify any behavior and is safe. When replacing `np.int`, you may wish to use e.g. `np.int64` or `np.int32` to specify the precision. If you wish to review your current use, check the release note link for additional information.\n",
            "Deprecated in NumPy 1.20; for more details and guidance: https://numpy.org/devdocs/release/1.20.0-notes.html#deprecations\n",
            "  y=(iris[\"target\"]==2).astype(np.int)\n"
          ]
        }
      ]
    },
    {
      "cell_type": "code",
      "source": [
        "from sklearn import datasets\n",
        "from sklearn.linear_model import LogisticRegression\n",
        "import numpy as np\n",
        "import matplotlib.pyplot as plt\n",
        "\n",
        "iris= datasets.load_iris()\n",
        "x_new =np.linspace(0,3,100).reshape(-1,1)\n",
        "y_prob = clf.predict_proba(x_new)\n",
        "plt.plot(x_new,y_prob[:,1],\"g-\",label =\"virginica\")\n",
        "plt.show()\n"
      ],
      "metadata": {
        "colab": {
          "base_uri": "https://localhost:8080/",
          "height": 430
        },
        "id": "khMWLcE2E9NT",
        "outputId": "84c87693-da7a-4d04-de07-e0c546c47dc7"
      },
      "execution_count": 20,
      "outputs": [
        {
          "output_type": "display_data",
          "data": {
            "text/plain": [
              "<Figure size 640x480 with 1 Axes>"
            ],
            "image/png": "[encoded data removed]"
          },
          "metadata": {}
        }
      ]
    }
  ],
  "metadata": {
    "colab": {
      "provenance": [],
      "authorship_tag": "ABX9TyMq00aDtI48o0Wz1YS3RLP0",
      "include_colab_link": true
    },
    "kernelspec": {
      "display_name": "Python 3",
      "name": "python3"
    },
    "language_info": {
      "name": "python"
    }
  },
  "nbformat": 4,
  "nbformat_minor": 0
}